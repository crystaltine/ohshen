{
 "cells": [
  {
   "cell_type": "code",
   "execution_count": null,
   "metadata": {},
   "outputs": [],
   "source": [
    "import torch\n",
    "\n",
    "ten1 = torch.rand(10)\n",
    "\n",
    "print(ten1)\n",
    "print(\"hi\")"
   ]
  },
  {
   "cell_type": "code",
   "execution_count": null,
   "metadata": {},
   "outputs": [],
   "source": [
    "import torch\n",
    "\n",
    "tensor1 = torch.rand(9); tensor1 = tensor1.view(3, 3)\n",
    "\n",
    "padded = torch.nn.functional.pad(tensor1, (1, 1, 1, 1), mode='constant', value=0)\n",
    "print(padded)\n",
    "\n"
   ]
  },
  {
   "cell_type": "code",
   "execution_count": null,
   "metadata": {},
   "outputs": [],
   "source": [
    "class ConductiveSurface:\n",
    "    def __init__(self, length: int, width: int):\n",
    "        self.atoms = torch.Tensor(length, width).fill_(0)\n",
    "    \n",
    "    def heat_square(self, loc: tuple = (0, 0), radius: int = 2, temperature: float = 0.5) -> None:\n",
    "        padded = torch.nn.functional.pad(self.atoms, (radius, radius, radius, radius), mode='constant', value=0)\n",
    "        \n",
    "        # change region around loc to temperature\n",
    "        x = torch.arange(padded.shape[1])\n",
    "        y = torch.arange(padded.shape[0])\n",
    "        xx, yy = torch.meshgrid(x, y)\n",
    "        dist = ((xx - loc[0]) ** 2 + (yy - loc[1]) ** 2).sqrt()\n",
    "        mask = dist <= radius\n",
    "        padded[mask] = temperature\n",
    "        \n",
    "        # unpad\n",
    "        self.atoms = padded[radius:-radius, radius:-radius]\n",
    "            \n",
    "    def get_iterable(self) -> torch.Tensor:\n",
    "        return self.atoms\n",
    "\n",
    "surf1 = ConductiveSurface(length=10, width=10)\n",
    "print(surf1.get_iterable())\n",
    "surf1.heat_square((5, 5), 2, 9)\n",
    "\n",
    "print(surf1.get_iterable())"
   ]
  },
  {
   "cell_type": "code",
   "execution_count": null,
   "metadata": {},
   "outputs": [],
   "source": [
    "import torch\n",
    "\n",
    "tensor1 = torch.rand(9); tensor1 = tensor1.view(3, 3)\n",
    "\n",
    "shifted_left = torch.roll(tensor1, shifts=1)\n",
    "shifted_left[:, -1] = 0\n",
    "\n",
    "print(shifted_left)"
   ]
  }
 ],
 "metadata": {
  "kernelspec": {
   "display_name": "Python 3",
   "language": "python",
   "name": "python3"
  },
  "language_info": {
   "codemirror_mode": {
    "name": "ipython",
    "version": 3
   },
   "file_extension": ".py",
   "mimetype": "text/x-python",
   "name": "python",
   "nbconvert_exporter": "python",
   "pygments_lexer": "ipython3",
   "version": "3.11.3"
  },
  "orig_nbformat": 4
 },
 "nbformat": 4,
 "nbformat_minor": 2
}
