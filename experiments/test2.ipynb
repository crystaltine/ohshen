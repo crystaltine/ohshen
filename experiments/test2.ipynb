{
 "cells": [
  {
   "cell_type": "code",
   "execution_count": 10,
   "metadata": {},
   "outputs": [
    {
     "name": "stdout",
     "output_type": "stream",
     "text": [
      "tensor([[0.5364, 0.4079, 0.3562, 0.9274, 0.2492],\n",
      "        [0.6928, 0.2864, 0.9990, 0.8276, 0.6028],\n",
      "        [0.1384, 0.0248, 0.1540, 0.6778, 0.1973],\n",
      "        [0.8519, 0.7971, 0.3126, 0.2200, 0.4430],\n",
      "        [0.4588, 0.8627, 0.1294, 0.0117, 0.9200]])\n",
      "tensor([[0.2864, 0.9990, 0.8276],\n",
      "        [0.0248, 0.1540, 0.6778],\n",
      "        [0.7971, 0.3126, 0.2200]])\n"
     ]
    }
   ],
   "source": [
    "import torch\n",
    "\n",
    "rand_arr = torch.rand(5, 5)\n",
    "\n",
    "print(rand_arr)\n",
    "\n",
    "mask = torch.ones(3, 3)\n",
    "mask[0] = torch.Tensor([0, 0, 0])\n",
    "\n",
    "# use 3x3 mask to get average for each pixel\n",
    "# if on edge, use 3x2 or 2x3 mask\n",
    "# if on corner, use 2x2 mask\n",
    "\n",
    "# test by applying mask to [1:-1, 1:-1] of rand_arr\n",
    "rand_arr = rand_arr[1:-1, 1:-1].masked_fill_(mask, 0.2)\n",
    "print(rand_arr)\n"
   ]
  }
 ],
 "metadata": {
  "kernelspec": {
   "display_name": "Python 3",
   "language": "python",
   "name": "python3"
  },
  "language_info": {
   "codemirror_mode": {
    "name": "ipython",
    "version": 3
   },
   "file_extension": ".py",
   "mimetype": "text/x-python",
   "name": "python",
   "nbconvert_exporter": "python",
   "pygments_lexer": "ipython3",
   "version": "3.11.3"
  },
  "orig_nbformat": 4
 },
 "nbformat": 4,
 "nbformat_minor": 2
}
