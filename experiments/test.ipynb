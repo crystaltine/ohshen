{
 "cells": [
  {
   "cell_type": "code",
   "execution_count": null,
   "metadata": {},
   "outputs": [],
   "source": [
    "import torch\n",
    "\n",
    "ten1 = torch.rand(10)\n",
    "\n",
    "print(ten1)\n",
    "print(\"hi\")"
   ]
  },
  {
   "cell_type": "code",
   "execution_count": null,
   "metadata": {},
   "outputs": [],
   "source": [
    "import torch\n",
    "\n",
    "tensor1 = torch.rand(9); tensor1 = tensor1.view(3, 3)\n",
    "\n",
    "padded = torch.nn.functional.pad(tensor1, (1, 1, 1, 1), mode='constant', value=0)\n",
    "print(padded)\n",
    "\n"
   ]
  },
  {
   "cell_type": "code",
   "execution_count": null,
   "metadata": {},
   "outputs": [],
   "source": [
    "class ConductiveSurface:\n",
    "    def __init__(self, length: int, width: int):\n",
    "        self.atoms = torch.Tensor(length, width).fill_(0)\n",
    "    \n",
    "    def heat_square(self, loc: tuple = (0, 0), radius: int = 2, temperature: float = 0.5) -> None:\n",
    "        padded = torch.nn.functional.pad(self.atoms, (radius, radius, radius, radius), mode='constant', value=0)\n",
    "        \n",
    "        # change region around loc to temperature\n",
    "        x = torch.arange(padded.shape[1])\n",
    "        y = torch.arange(padded.shape[0])\n",
    "        xx, yy = torch.meshgrid(x, y)\n",
    "        dist = ((xx - loc[0]) ** 2 + (yy - loc[1]) ** 2).sqrt()\n",
    "        mask = dist <= radius\n",
    "        padded[mask] = temperature\n",
    "        \n",
    "        # unpad\n",
    "        self.atoms = padded[radius:-radius, radius:-radius]\n",
    "            \n",
    "    def get_iterable(self) -> torch.Tensor:\n",
    "        return self.atoms\n",
    "\n",
    "surf1 = ConductiveSurface(length=10, width=10)\n",
    "print(surf1.get_iterable())\n",
    "surf1.heat_square((5, 5), 2, 9)\n",
    "\n",
    "print(surf1.get_iterable())"
   ]
  },
  {
   "cell_type": "code",
   "execution_count": null,
   "metadata": {},
   "outputs": [],
   "source": [
    "import torch\n",
    "\n",
    "tensor1 = torch.rand(9); tensor1 = tensor1.view(3, 3)\n",
    "\n",
    "shifted_left = torch.roll(tensor1, shifts=1)\n",
    "shifted_left[:, -1] = 0\n",
    "\n",
    "print(shifted_left)"
   ]
  },
  {
   "cell_type": "code",
   "execution_count": null,
   "metadata": {},
   "outputs": [],
   "source": [
    "import torch\n",
    "\n",
    "tensor1 = torch.rand(9); tensor1 = tensor1.view(3, 3)\n",
    "\n",
    "padded = torch.nn.functional.pad(tensor1, (1, 1, 1, 1), mode='constant', value=0)\n",
    "print(padded)\n",
    "\n"
   ]
  },
  {
   "cell_type": "code",
   "execution_count": 1,
   "metadata": {},
   "outputs": [
    {
     "name": "stdout",
     "output_type": "stream",
     "text": [
      "tensor([0.6198, 0.9183, 0.8398])\n",
      "tensor([0.1816, 0.4457, 0.5548])\n",
      "tensor([0.7890, 0.0663, 0.5451])\n"
     ]
    }
   ],
   "source": [
    "import torch\n",
    "\n",
    "tensor1 = torch.rand(9); tensor1 = tensor1.view(3, 3)\n",
    "\n",
    "for row in tensor1:\n",
    "    print(row)"
   ]
  },
  {
   "cell_type": "code",
   "execution_count": 4,
   "metadata": {},
   "outputs": [
    {
     "name": "stdout",
     "output_type": "stream",
     "text": [
      "[[1 2 3]\n",
      " [4 5 6]\n",
      " [7 8 9]]\n"
     ]
    },
    {
     "ename": "ValueError",
     "evalue": "setting an array element with a sequence. The requested array would exceed the maximum number of dimension of 1.",
     "output_type": "error",
     "traceback": [
      "\u001b[1;31m---------------------------------------------------------------------------\u001b[0m",
      "\u001b[1;31mValueError\u001b[0m                                Traceback (most recent call last)",
      "Cell \u001b[1;32mIn[4], line 6\u001b[0m\n\u001b[0;32m      4\u001b[0m ndarr \u001b[39m=\u001b[39m np\u001b[39m.\u001b[39marray(testli)\n\u001b[0;32m      5\u001b[0m \u001b[39mprint\u001b[39m(ndarr)\n\u001b[1;32m----> 6\u001b[0m ndarr[\u001b[39m0\u001b[39;49m] \u001b[39m=\u001b[39m [(\u001b[39m9\u001b[39m, \u001b[39m10\u001b[39m), \u001b[39m10\u001b[39m, \u001b[39m11\u001b[39m]\n\u001b[0;32m      7\u001b[0m \u001b[39mprint\u001b[39m(ndarr)\n",
      "\u001b[1;31mValueError\u001b[0m: setting an array element with a sequence. The requested array would exceed the maximum number of dimension of 1."
     ]
    }
   ],
   "source": [
    "import numpy as np\n",
    "\n",
    "testli = [(1, 2, 3), (4, 5, 6), (7, 8, 9)]\n",
    "ndarr = np.array(testli)\n",
    "print(ndarr)\n",
    "ndarr[0] = [(9, 10), 10, 11]\n",
    "print(ndarr)"
   ]
  }
 ],
 "metadata": {
  "kernelspec": {
   "display_name": "Python 3",
   "language": "python",
   "name": "python3"
  },
  "language_info": {
   "codemirror_mode": {
    "name": "ipython",
    "version": 3
   },
   "file_extension": ".py",
   "mimetype": "text/x-python",
   "name": "python",
   "nbconvert_exporter": "python",
   "pygments_lexer": "ipython3",
   "version": "3.11.3"
  },
  "orig_nbformat": 4
 },
 "nbformat": 4,
 "nbformat_minor": 2
}
